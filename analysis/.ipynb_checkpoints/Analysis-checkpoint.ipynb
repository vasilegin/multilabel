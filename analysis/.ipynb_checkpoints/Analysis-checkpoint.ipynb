{
 "cells": [
  {
   "cell_type": "code",
   "execution_count": 1,
   "id": "944d3151",
   "metadata": {},
   "outputs": [],
   "source": [
    "import os\n",
    "import pandas as pd\n",
    "import matplotlib.pyplot as plt\n",
    "import json"
   ]
  },
  {
   "cell_type": "code",
   "execution_count": 2,
   "id": "92feaaff",
   "metadata": {},
   "outputs": [],
   "source": [
    "PARENT_PATH = os.path.join(\"..\")\n",
    "DATA_CSV = os.path.join(PARENT_PATH, \"data\", \"data.csv\")\n",
    "RESULT_CSV = os.path.join(PARENT_PATH, \"data\", \"analyzed.csv\")\n",
    "TAGS_TXT = os.path.join(PARENT_PATH, \"data\", \"tags.txt\")\n",
    "MIN_TEXT_LEN = 2500"
   ]
  },
  {
   "cell_type": "code",
   "execution_count": 3,
   "id": "a892ec84",
   "metadata": {},
   "outputs": [],
   "source": [
    "df = pd.read_csv(DATA_CSV)"
   ]
  },
  {
   "cell_type": "code",
   "execution_count": 4,
   "id": "5b080d3f",
   "metadata": {},
   "outputs": [
    {
     "data": {
      "text/html": [
       "<div>\n",
       "<style scoped>\n",
       "    .dataframe tbody tr th:only-of-type {\n",
       "        vertical-align: middle;\n",
       "    }\n",
       "\n",
       "    .dataframe tbody tr th {\n",
       "        vertical-align: top;\n",
       "    }\n",
       "\n",
       "    .dataframe thead th {\n",
       "        text-align: right;\n",
       "    }\n",
       "</style>\n",
       "<table border=\"1\" class=\"dataframe\">\n",
       "  <thead>\n",
       "    <tr style=\"text-align: right;\">\n",
       "      <th></th>\n",
       "      <th>id</th>\n",
       "      <th>title</th>\n",
       "      <th>content</th>\n",
       "      <th>tags</th>\n",
       "    </tr>\n",
       "  </thead>\n",
       "  <tbody>\n",
       "    <tr>\n",
       "      <th>0</th>\n",
       "      <td>83335</td>\n",
       "      <td>Blender для школы и ВУЗа</td>\n",
       "      <td>выходе русской версии книги blender basic 3 е ...</td>\n",
       "      <td>blender,blender basics,книги,учебник,учебное п...</td>\n",
       "    </tr>\n",
       "    <tr>\n",
       "      <th>1</th>\n",
       "      <td>1</td>\n",
       "      <td>Wiki-FAQ для Хабрахабра</td>\n",
       "      <td>привет сборника ответов часто задаваемые вопро...</td>\n",
       "      <td>хабрахаб,wiki,faq,чаво,механизм,движок</td>\n",
       "    </tr>\n",
       "    <tr>\n",
       "      <th>2</th>\n",
       "      <td>166669</td>\n",
       "      <td>Новые софтфоны YouMagic теперь с кодеком OPUS</td>\n",
       "      <td>уважаемые пользователи хабра сегодня компании ...</td>\n",
       "      <td>youmagic,ip-телефония,мтт,softphone,linux,windows</td>\n",
       "    </tr>\n",
       "    <tr>\n",
       "      <th>3</th>\n",
       "      <td>2</td>\n",
       "      <td>Мы знаем много недоделок на сайте… но!</td>\n",
       "      <td>кроме неработающих отсутствующих страниц котор...</td>\n",
       "      <td>ошибки,баги,bugs,error,warning</td>\n",
       "    </tr>\n",
       "    <tr>\n",
       "      <th>4</th>\n",
       "      <td>4</td>\n",
       "      <td>Маслов, Сокур и партнеры пиарят Google в России</td>\n",
       "      <td>насколько знаю google выбрал агентство маслов ...</td>\n",
       "      <td>google,маслов,сокур и партнеры,pr,сопровождени...</td>\n",
       "    </tr>\n",
       "  </tbody>\n",
       "</table>\n",
       "</div>"
      ],
      "text/plain": [
       "       id                                            title  \\\n",
       "0   83335                         Blender для школы и ВУЗа   \n",
       "1       1                          Wiki-FAQ для Хабрахабра   \n",
       "2  166669    Новые софтфоны YouMagic теперь с кодеком OPUS   \n",
       "3       2           Мы знаем много недоделок на сайте… но!   \n",
       "4       4  Маслов, Сокур и партнеры пиарят Google в России   \n",
       "\n",
       "                                             content  \\\n",
       "0  выходе русской версии книги blender basic 3 е ...   \n",
       "1  привет сборника ответов часто задаваемые вопро...   \n",
       "2  уважаемые пользователи хабра сегодня компании ...   \n",
       "3  кроме неработающих отсутствующих страниц котор...   \n",
       "4  насколько знаю google выбрал агентство маслов ...   \n",
       "\n",
       "                                                tags  \n",
       "0  blender,blender basics,книги,учебник,учебное п...  \n",
       "1             хабрахаб,wiki,faq,чаво,механизм,движок  \n",
       "2  youmagic,ip-телефония,мтт,softphone,linux,windows  \n",
       "3                     ошибки,баги,bugs,error,warning  \n",
       "4  google,маслов,сокур и партнеры,pr,сопровождени...  "
      ]
     },
     "execution_count": 4,
     "metadata": {},
     "output_type": "execute_result"
    }
   ],
   "source": [
    "df.head()"
   ]
  },
  {
   "cell_type": "code",
   "execution_count": 37,
   "id": "edbf9edb",
   "metadata": {},
   "outputs": [],
   "source": [
    "df = df[[\"id\", \"text\", \"tags\"]].dropna()"
   ]
  },
  {
   "cell_type": "code",
   "execution_count": 38,
   "id": "96a87b35",
   "metadata": {},
   "outputs": [
    {
     "name": "stdout",
     "output_type": "stream",
     "text": [
      "<class 'pandas.core.frame.DataFrame'>\n",
      "Int64Index: 79104 entries, 1 to 668256\n",
      "Data columns (total 4 columns):\n",
      " #   Column  Non-Null Count  Dtype \n",
      "---  ------  --------------  ----- \n",
      " 0   id      79104 non-null  int64 \n",
      " 1   text    79104 non-null  object\n",
      " 2   tags    79104 non-null  object\n",
      " 3   size    79104 non-null  int64 \n",
      "dtypes: int64(2), object(2)\n",
      "memory usage: 3.0+ MB\n"
     ]
    }
   ],
   "source": [
    "df[\"size\"] = df[[\"text\"]].apply(lambda row: len(row[\"text\"]), axis=1)\n",
    "df = df.loc[df['size'] >= MIN_TEXT_LEN]\n",
    "df.info()"
   ]
  },
  {
   "cell_type": "code",
   "execution_count": 39,
   "id": "ccb4c586",
   "metadata": {},
   "outputs": [],
   "source": [
    "df = df[[\"text\", \"tags\"]]"
   ]
  },
  {
   "cell_type": "code",
   "execution_count": 40,
   "id": "90230dad",
   "metadata": {},
   "outputs": [
    {
     "data": {
      "text/html": [
       "<div>\n",
       "<style scoped>\n",
       "    .dataframe tbody tr th:only-of-type {\n",
       "        vertical-align: middle;\n",
       "    }\n",
       "\n",
       "    .dataframe tbody tr th {\n",
       "        vertical-align: top;\n",
       "    }\n",
       "\n",
       "    .dataframe thead th {\n",
       "        text-align: right;\n",
       "    }\n",
       "</style>\n",
       "<table border=\"1\" class=\"dataframe\">\n",
       "  <thead>\n",
       "    <tr style=\"text-align: right;\">\n",
       "      <th></th>\n",
       "      <th>text</th>\n",
       "      <th>tags</th>\n",
       "    </tr>\n",
       "  </thead>\n",
       "  <tbody>\n",
       "    <tr>\n",
       "      <th>1</th>\n",
       "      <td>\\nПисатель и критик соотносятся так же, как ...</td>\n",
       "      <td>['Не мое', 'Чтение', 'Книги', 'Литература', 'Д...</td>\n",
       "    </tr>\n",
       "    <tr>\n",
       "      <th>2</th>\n",
       "      <td>Привет всем пикабушникам, этим холодным 1-се...</td>\n",
       "      <td>['Компьютер', 'Компьютерщики', 'Компьютерное ж...</td>\n",
       "    </tr>\n",
       "    <tr>\n",
       "      <th>5</th>\n",
       "      <td>\\nА она идеальна! От щиколоток до кончиков р...</td>\n",
       "      <td>['[моё]', 'Советы 30-летнего', 'Френдзона', 'О...</td>\n",
       "    </tr>\n",
       "    <tr>\n",
       "      <th>6</th>\n",
       "      <td>\\nПродолжаю истории про моего друга.Естестве...</td>\n",
       "      <td>['[моё]', 'Китай', 'Таможня', 'Деньги', 'Истор...</td>\n",
       "    </tr>\n",
       "    <tr>\n",
       "      <th>11</th>\n",
       "      <td>История не то, чтобы юмористическая, но посм...</td>\n",
       "      <td>['История', 'Деньги', 'Сложный выбор', 'Текст'...</td>\n",
       "    </tr>\n",
       "  </tbody>\n",
       "</table>\n",
       "</div>"
      ],
      "text/plain": [
       "                                                 text  \\\n",
       "1     \\nПисатель и критик соотносятся так же, как ...   \n",
       "2     Привет всем пикабушникам, этим холодным 1-се...   \n",
       "5     \\nА она идеальна! От щиколоток до кончиков р...   \n",
       "6     \\nПродолжаю истории про моего друга.Естестве...   \n",
       "11    История не то, чтобы юмористическая, но посм...   \n",
       "\n",
       "                                                 tags  \n",
       "1   ['Не мое', 'Чтение', 'Книги', 'Литература', 'Д...  \n",
       "2   ['Компьютер', 'Компьютерщики', 'Компьютерное ж...  \n",
       "5   ['[моё]', 'Советы 30-летнего', 'Френдзона', 'О...  \n",
       "6   ['[моё]', 'Китай', 'Таможня', 'Деньги', 'Истор...  \n",
       "11  ['История', 'Деньги', 'Сложный выбор', 'Текст'...  "
      ]
     },
     "execution_count": 40,
     "metadata": {},
     "output_type": "execute_result"
    }
   ],
   "source": [
    "df.head()"
   ]
  },
  {
   "cell_type": "code",
   "execution_count": 41,
   "id": "0d6d2b5c",
   "metadata": {},
   "outputs": [],
   "source": [
    "df.to_csv(RESULT_CSV, columns=[\"text\", \"tags\"])"
   ]
  },
  {
   "cell_type": "code",
   "execution_count": 42,
   "id": "88e6c4d3",
   "metadata": {},
   "outputs": [],
   "source": [
    "def get_tags_string(data):\n",
    "    res = dict()\n",
    "    for row in data:\n",
    "        arr = row.strip(\"[]\").replace(\"'\", \"\").split(', ')\n",
    "        \n",
    "        for item in arr:\n",
    "            if item in res:\n",
    "                res[item] += 1\n",
    "            else:\n",
    "                res[item] = 1\n",
    "    return res"
   ]
  },
  {
   "cell_type": "code",
   "execution_count": 43,
   "id": "2f75b92c",
   "metadata": {},
   "outputs": [],
   "source": [
    "tags_dict = get_tags_string(df['tags'].values)"
   ]
  },
  {
   "cell_type": "code",
   "execution_count": 44,
   "id": "5a33d8c4",
   "metadata": {},
   "outputs": [
    {
     "data": {
      "text/plain": [
       "31037"
      ]
     },
     "execution_count": 44,
     "metadata": {},
     "output_type": "execute_result"
    }
   ],
   "source": [
    "len(tags_dict)"
   ]
  },
  {
   "cell_type": "code",
   "execution_count": 46,
   "id": "1bf9ccfe",
   "metadata": {},
   "outputs": [],
   "source": [
    "sort_tags_dict = sorted(tags_dict.items(), key=lambda x: x[1], reverse=True)"
   ]
  },
  {
   "cell_type": "code",
   "execution_count": 47,
   "id": "a112344e",
   "metadata": {},
   "outputs": [],
   "source": [
    "EXPLORE_TAG_COUNT = 15"
   ]
  },
  {
   "cell_type": "code",
   "execution_count": 48,
   "id": "7c6b1590",
   "metadata": {},
   "outputs": [],
   "source": [
    "tags = sort_tags_dict[0:EXPLORE_TAG_COUNT]\n",
    "\n",
    "x = []\n",
    "x_label = []\n",
    "\n",
    "for i in tags:\n",
    "    x_label.append(i[0])\n",
    "    x.append(i[1])"
   ]
  },
  {
   "cell_type": "code",
   "execution_count": 49,
   "id": "9e05fd49",
   "metadata": {},
   "outputs": [
    {
     "name": "stdout",
     "output_type": "stream",
     "text": [
      "[('Текст', 79164), ('Длиннопост', 47882), ('[моё]', 43022), ('Рассказ', 10407), ('История', 6747), ('Украина', 5628), ('Россия', 5049), ('Политика', 4563), ('Моё', 4338), ('Не мое', 4212), ('Юмор', 2684), ('Длиннотекст', 2507), ('Работа', 2325), ('Крипота', 2231), ('Мат', 2221)]\n"
     ]
    }
   ],
   "source": [
    "print(tags)"
   ]
  },
  {
   "cell_type": "code",
   "execution_count": 57,
   "id": "5901ce60",
   "metadata": {},
   "outputs": [
    {
     "data": {
      "text/plain": [
       "([<matplotlib.axis.XTick at 0x12c5b82e0>,\n",
       "  <matplotlib.axis.XTick at 0x12c5b8280>,\n",
       "  <matplotlib.axis.XTick at 0x1392a3250>,\n",
       "  <matplotlib.axis.XTick at 0x12e604760>,\n",
       "  <matplotlib.axis.XTick at 0x12e604c70>,\n",
       "  <matplotlib.axis.XTick at 0x12ccf51c0>,\n",
       "  <matplotlib.axis.XTick at 0x12ccf56d0>,\n",
       "  <matplotlib.axis.XTick at 0x12ccf5be0>,\n",
       "  <matplotlib.axis.XTick at 0x12ccf5850>,\n",
       "  <matplotlib.axis.XTick at 0x12e6048e0>,\n",
       "  <matplotlib.axis.XTick at 0x12ca442e0>,\n",
       "  <matplotlib.axis.XTick at 0x12ca447f0>,\n",
       "  <matplotlib.axis.XTick at 0x12ca44d00>,\n",
       "  <matplotlib.axis.XTick at 0x12ac2d250>,\n",
       "  <matplotlib.axis.XTick at 0x12ac2d760>],\n",
       " [Text(0, 0, 'Текст'),\n",
       "  Text(1, 0, 'Длиннопост'),\n",
       "  Text(2, 0, '[моё]'),\n",
       "  Text(3, 0, 'Рассказ'),\n",
       "  Text(4, 0, 'История'),\n",
       "  Text(5, 0, 'Украина'),\n",
       "  Text(6, 0, 'Россия'),\n",
       "  Text(7, 0, 'Политика'),\n",
       "  Text(8, 0, 'Моё'),\n",
       "  Text(9, 0, 'Не мое'),\n",
       "  Text(10, 0, 'Юмор'),\n",
       "  Text(11, 0, 'Длиннотекст'),\n",
       "  Text(12, 0, 'Работа'),\n",
       "  Text(13, 0, 'Крипота'),\n",
       "  Text(14, 0, 'Мат')])"
      ]
     },
     "execution_count": 57,
     "metadata": {},
     "output_type": "execute_result"
    },
    {
     "data": {
      "image/png": "[encoded data removed]",
      "text/plain": [
       "<Figure size 1080x432 with 1 Axes>"
      ]
     },
     "metadata": {},
     "output_type": "display_data"
    }
   ],
   "source": [
    "fig = plt.figure(figsize=(15, 6))\n",
    "plt.style.use('ggplot')\n",
    "plt.bar(range(len(x)), x)\n",
    "plt.xticks(range(len(x)), x_label)"
   ]
  },
  {
   "cell_type": "code",
   "execution_count": 52,
   "id": "091fae99",
   "metadata": {},
   "outputs": [],
   "source": [
    "main_tags = sort_tags_dict[3:20]\n",
    "\n",
    "y = []\n",
    "y_label = []\n",
    "\n",
    "for i in main_tags:\n",
    "    y_label.append(i[0][0:8] + \"...\")\n",
    "    y.append(i[1])"
   ]
  },
  {
   "cell_type": "code",
   "execution_count": 54,
   "id": "9e112b0e",
   "metadata": {},
   "outputs": [
    {
     "data": {
      "text/plain": [
       "([<matplotlib.axis.XTick at 0x16d9d49d0>,\n",
       "  <matplotlib.axis.XTick at 0x16d9d49a0>,\n",
       "  <matplotlib.axis.XTick at 0x1421ecdc0>,\n",
       "  <matplotlib.axis.XTick at 0x16da236d0>,\n",
       "  <matplotlib.axis.XTick at 0x16da23ee0>,\n",
       "  <matplotlib.axis.XTick at 0x16da2c1c0>,\n",
       "  <matplotlib.axis.XTick at 0x16da2c910>,\n",
       "  <matplotlib.axis.XTick at 0x16da31160>,\n",
       "  <matplotlib.axis.XTick at 0x16da317f0>,\n",
       "  <matplotlib.axis.XTick at 0x16da31f40>,\n",
       "  <matplotlib.axis.XTick at 0x16da31f10>,\n",
       "  <matplotlib.axis.XTick at 0x16da2cc40>,\n",
       "  <matplotlib.axis.XTick at 0x16da3c6d0>,\n",
       "  <matplotlib.axis.XTick at 0x16da3cd90>,\n",
       "  <matplotlib.axis.XTick at 0x16da42520>,\n",
       "  <matplotlib.axis.XTick at 0x16da42c70>,\n",
       "  <matplotlib.axis.XTick at 0x16da48400>],\n",
       " [Text(0, 0, 'Рассказ...'),\n",
       "  Text(1, 0, 'История...'),\n",
       "  Text(2, 0, 'Украина...'),\n",
       "  Text(3, 0, 'Россия...'),\n",
       "  Text(4, 0, 'Политика...'),\n",
       "  Text(5, 0, 'Моё...'),\n",
       "  Text(6, 0, 'Не мое...'),\n",
       "  Text(7, 0, 'Юмор...'),\n",
       "  Text(8, 0, 'Длинноте...'),\n",
       "  Text(9, 0, 'Работа...'),\n",
       "  Text(10, 0, 'Крипота...'),\n",
       "  Text(11, 0, 'Мат...'),\n",
       "  Text(12, 0, 'Жизнь...'),\n",
       "  Text(13, 0, 'Истории ...'),\n",
       "  Text(14, 0, 'Отношени...'),\n",
       "  Text(15, 0, 'Дети...'),\n",
       "  Text(16, 0, 'США...')])"
      ]
     },
     "execution_count": 54,
     "metadata": {},
     "output_type": "execute_result"
    },
    {
     "data": {
      "image/png": "[encoded data removed]",
      "text/plain": [
       "<Figure size 1296x288 with 1 Axes>"
      ]
     },
     "metadata": {},
     "output_type": "display_data"
    }
   ],
   "source": [
    "fig = plt.figure(figsize=(18, 4))\n",
    "plt.style.use('ggplot')\n",
    "plt.bar(range(len(y)), y)\n",
    "plt.xticks(range(len(y)), y_label)"
   ]
  },
  {
   "cell_type": "code",
   "execution_count": 60,
   "id": "5367e5fa",
   "metadata": {},
   "outputs": [],
   "source": [
    "TAGS = [x[0] for x in main_tags]"
   ]
  },
  {
   "cell_type": "code",
   "execution_count": 61,
   "id": "e44c70ad",
   "metadata": {},
   "outputs": [
    {
     "data": {
      "text/plain": [
       "['Рассказ',\n",
       " 'История',\n",
       " 'Украина',\n",
       " 'Россия',\n",
       " 'Политика',\n",
       " 'Моё',\n",
       " 'Не мое',\n",
       " 'Юмор',\n",
       " 'Длиннотекст',\n",
       " 'Работа',\n",
       " 'Крипота',\n",
       " 'Мат',\n",
       " 'Жизнь',\n",
       " 'Истории из жизни',\n",
       " 'Отношения',\n",
       " 'Дети',\n",
       " 'США']"
      ]
     },
     "execution_count": 61,
     "metadata": {},
     "output_type": "execute_result"
    }
   ],
   "source": [
    "TAGS"
   ]
  },
  {
   "cell_type": "code",
   "execution_count": 62,
   "id": "285cef11",
   "metadata": {},
   "outputs": [],
   "source": [
    "with open(TAGS_TXT, 'w') as fw:\n",
    "    json.dump(TAGS, fw)"
   ]
  }
 ],
 "metadata": {
  "kernelspec": {
   "display_name": "Python 3 (ipykernel)",
   "language": "python",
   "name": "python3"
  },
  "language_info": {
   "codemirror_mode": {
    "name": "ipython",
    "version": 3
   },
   "file_extension": ".py",
   "mimetype": "text/x-python",
   "name": "python",
   "nbconvert_exporter": "python",
   "pygments_lexer": "ipython3",
   "version": "3.9.13"
  }
 },
 "nbformat": 4,
 "nbformat_minor": 5
}
