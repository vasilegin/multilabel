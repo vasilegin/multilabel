{
 "cells": [
  {
   "cell_type": "code",
   "execution_count": 1,
   "id": "944d3151",
   "metadata": {},
   "outputs": [],
   "source": [
    "import os\n",
    "import pandas as pd\n",
    "import matplotlib.pyplot as plt\n",
    "import json"
   ]
  },
  {
   "cell_type": "code",
   "execution_count": 2,
   "id": "92feaaff",
   "metadata": {},
   "outputs": [],
   "source": [
    "PARENT_PATH = os.path.join(\"..\")\n",
    "DATA_CSV = os.path.join(PARENT_PATH, \"data\", \"data1.csv\")\n",
    "RESULT_CSV = os.path.join(PARENT_PATH, \"data\", \"analyzed.csv\")\n",
    "TAGS_TXT = os.path.join(PARENT_PATH, \"data\", \"tags.txt\")\n",
    "MIN_TEXT_LEN = 2500"
   ]
  },
  {
   "cell_type": "code",
   "execution_count": 10,
   "id": "a892ec84",
   "metadata": {},
   "outputs": [],
   "source": [
    "df = pd.read_csv(DATA_CSV)"
   ]
  },
  {
   "cell_type": "code",
   "execution_count": 11,
   "id": "5b080d3f",
   "metadata": {},
   "outputs": [
    {
     "data": {
      "text/html": [
       "<div>\n",
       "<style scoped>\n",
       "    .dataframe tbody tr th:only-of-type {\n",
       "        vertical-align: middle;\n",
       "    }\n",
       "\n",
       "    .dataframe tbody tr th {\n",
       "        vertical-align: top;\n",
       "    }\n",
       "\n",
       "    .dataframe thead th {\n",
       "        text-align: right;\n",
       "    }\n",
       "</style>\n",
       "<table border=\"1\" class=\"dataframe\">\n",
       "  <thead>\n",
       "    <tr style=\"text-align: right;\">\n",
       "      <th></th>\n",
       "      <th>id</th>\n",
       "      <th>time_published</th>\n",
       "      <th>author</th>\n",
       "      <th>title</th>\n",
       "      <th>content</th>\n",
       "      <th>lang</th>\n",
       "      <th>comment_count</th>\n",
       "      <th>reading_count</th>\n",
       "      <th>score</th>\n",
       "      <th>is_tutorial</th>\n",
       "      <th>tags_string</th>\n",
       "      <th>classes_string</th>\n",
       "    </tr>\n",
       "  </thead>\n",
       "  <tbody>\n",
       "    <tr>\n",
       "      <th>0</th>\n",
       "      <td>83335</td>\n",
       "      <td>2010-02-06T20:31:19+00:00</td>\n",
       "      <td>NaN</td>\n",
       "      <td>Blender для школы и ВУЗа</td>\n",
       "      <td>&lt;div xmlns=\"http://www.w3.org/1999/xhtml\"&gt;О вы...</td>\n",
       "      <td>ru</td>\n",
       "      <td>18</td>\n",
       "      <td>1791</td>\n",
       "      <td>14</td>\n",
       "      <td>0</td>\n",
       "      <td>blender,blender basics,книги,учебник,учебное п...</td>\n",
       "      <td>Чулан</td>\n",
       "    </tr>\n",
       "    <tr>\n",
       "      <th>1</th>\n",
       "      <td>1</td>\n",
       "      <td>2006-07-13T14:23:39+00:00</td>\n",
       "      <td>Denis Kryuchkov</td>\n",
       "      <td>Wiki-FAQ для Хабрахабра</td>\n",
       "      <td>&lt;div xmlns=\"http://www.w3.org/1999/xhtml\"&gt;Прив...</td>\n",
       "      <td>ru</td>\n",
       "      <td>67</td>\n",
       "      <td>35578</td>\n",
       "      <td>1</td>\n",
       "      <td>0</td>\n",
       "      <td>хабрахаб,wiki,FAQ,ЧАВО,механизм,движок</td>\n",
       "      <td>Habr</td>\n",
       "    </tr>\n",
       "    <tr>\n",
       "      <th>2</th>\n",
       "      <td>166669</td>\n",
       "      <td>2013-01-22T14:09:19+00:00</td>\n",
       "      <td>NaN</td>\n",
       "      <td>Новые софтфоны YouMagic теперь с кодеком OPUS</td>\n",
       "      <td>&lt;div xmlns=\"http://www.w3.org/1999/xhtml\"&gt;Уваж...</td>\n",
       "      <td>ru</td>\n",
       "      <td>14</td>\n",
       "      <td>6718</td>\n",
       "      <td>2</td>\n",
       "      <td>0</td>\n",
       "      <td>youmagic,ip-телефония,МТТ,softphone,linux,windows</td>\n",
       "      <td>Блог компании МТТ,Разработка систем связи</td>\n",
       "    </tr>\n",
       "    <tr>\n",
       "      <th>3</th>\n",
       "      <td>2</td>\n",
       "      <td>2006-07-13T20:45:38+00:00</td>\n",
       "      <td>Юрий Баландин</td>\n",
       "      <td>Мы знаем много недоделок на сайте… но!</td>\n",
       "      <td>&lt;div xmlns=\"http://www.w3.org/1999/xhtml\"&gt;Кром...</td>\n",
       "      <td>ru</td>\n",
       "      <td>37</td>\n",
       "      <td>17611</td>\n",
       "      <td>0</td>\n",
       "      <td>0</td>\n",
       "      <td>ошибки,баги,bugs,error,warning</td>\n",
       "      <td>Habr</td>\n",
       "    </tr>\n",
       "    <tr>\n",
       "      <th>4</th>\n",
       "      <td>4</td>\n",
       "      <td>2006-07-14T13:59:37+00:00</td>\n",
       "      <td>Denis Kryuchkov</td>\n",
       "      <td>Маслов, Сокур и партнеры пиарят Google в России</td>\n",
       "      <td>&lt;div xmlns=\"http://www.w3.org/1999/xhtml\"&gt;Наск...</td>\n",
       "      <td>ru</td>\n",
       "      <td>15</td>\n",
       "      <td>3796</td>\n",
       "      <td>1</td>\n",
       "      <td>0</td>\n",
       "      <td>Google,Маслов,Сокур и партнеры,PR,сопровождени...</td>\n",
       "      <td>Чулан</td>\n",
       "    </tr>\n",
       "  </tbody>\n",
       "</table>\n",
       "</div>"
      ],
      "text/plain": [
       "       id             time_published           author  \\\n",
       "0   83335  2010-02-06T20:31:19+00:00              NaN   \n",
       "1       1  2006-07-13T14:23:39+00:00  Denis Kryuchkov   \n",
       "2  166669  2013-01-22T14:09:19+00:00              NaN   \n",
       "3       2  2006-07-13T20:45:38+00:00    Юрий Баландин   \n",
       "4       4  2006-07-14T13:59:37+00:00  Denis Kryuchkov   \n",
       "\n",
       "                                             title  \\\n",
       "0                         Blender для школы и ВУЗа   \n",
       "1                          Wiki-FAQ для Хабрахабра   \n",
       "2    Новые софтфоны YouMagic теперь с кодеком OPUS   \n",
       "3           Мы знаем много недоделок на сайте… но!   \n",
       "4  Маслов, Сокур и партнеры пиарят Google в России   \n",
       "\n",
       "                                             content lang  comment_count  \\\n",
       "0  <div xmlns=\"http://www.w3.org/1999/xhtml\">О вы...   ru             18   \n",
       "1  <div xmlns=\"http://www.w3.org/1999/xhtml\">Прив...   ru             67   \n",
       "2  <div xmlns=\"http://www.w3.org/1999/xhtml\">Уваж...   ru             14   \n",
       "3  <div xmlns=\"http://www.w3.org/1999/xhtml\">Кром...   ru             37   \n",
       "4  <div xmlns=\"http://www.w3.org/1999/xhtml\">Наск...   ru             15   \n",
       "\n",
       "   reading_count  score  is_tutorial  \\\n",
       "0           1791     14            0   \n",
       "1          35578      1            0   \n",
       "2           6718      2            0   \n",
       "3          17611      0            0   \n",
       "4           3796      1            0   \n",
       "\n",
       "                                         tags_string  \\\n",
       "0  blender,blender basics,книги,учебник,учебное п...   \n",
       "1             хабрахаб,wiki,FAQ,ЧАВО,механизм,движок   \n",
       "2  youmagic,ip-телефония,МТТ,softphone,linux,windows   \n",
       "3                     ошибки,баги,bugs,error,warning   \n",
       "4  Google,Маслов,Сокур и партнеры,PR,сопровождени...   \n",
       "\n",
       "                              classes_string  \n",
       "0                                      Чулан  \n",
       "1                                       Habr  \n",
       "2  Блог компании МТТ,Разработка систем связи  \n",
       "3                                       Habr  \n",
       "4                                      Чулан  "
      ]
     },
     "execution_count": 11,
     "metadata": {},
     "output_type": "execute_result"
    }
   ],
   "source": [
    "df.head()"
   ]
  },
  {
   "cell_type": "code",
   "execution_count": 12,
   "id": "edbf9edb",
   "metadata": {},
   "outputs": [],
   "source": [
    "df = df[[\"id\", \"title\", \"content\", \"tags_string\"]].dropna()"
   ]
  },
  {
   "cell_type": "code",
   "execution_count": 13,
   "id": "96a87b35",
   "metadata": {},
   "outputs": [
    {
     "name": "stdout",
     "output_type": "stream",
     "text": [
      "<class 'pandas.core.frame.DataFrame'>\n",
      "Int64Index: 148233 entries, 0 to 207371\n",
      "Data columns (total 5 columns):\n",
      " #   Column       Non-Null Count   Dtype \n",
      "---  ------       --------------   ----- \n",
      " 0   id           148233 non-null  int64 \n",
      " 1   title        148233 non-null  object\n",
      " 2   content      148233 non-null  object\n",
      " 3   tags_string  148233 non-null  object\n",
      " 4   size         148233 non-null  int64 \n",
      "dtypes: int64(2), object(3)\n",
      "memory usage: 6.8+ MB\n"
     ]
    }
   ],
   "source": [
    "df[\"size\"] = df[[\"content\"]].apply(lambda row: len(row[\"content\"]), axis=1)\n",
    "df = df.loc[df['size'] >= MIN_TEXT_LEN]\n",
    "df.info()"
   ]
  },
  {
   "cell_type": "code",
   "execution_count": 14,
   "id": "ccb4c586",
   "metadata": {},
   "outputs": [],
   "source": [
    "df = df[[\"content\", \"tags_string\"]]"
   ]
  },
  {
   "cell_type": "code",
   "execution_count": 15,
   "id": "90230dad",
   "metadata": {},
   "outputs": [
    {
     "data": {
      "text/html": [
       "<div>\n",
       "<style scoped>\n",
       "    .dataframe tbody tr th:only-of-type {\n",
       "        vertical-align: middle;\n",
       "    }\n",
       "\n",
       "    .dataframe tbody tr th {\n",
       "        vertical-align: top;\n",
       "    }\n",
       "\n",
       "    .dataframe thead th {\n",
       "        text-align: right;\n",
       "    }\n",
       "</style>\n",
       "<table border=\"1\" class=\"dataframe\">\n",
       "  <thead>\n",
       "    <tr style=\"text-align: right;\">\n",
       "      <th></th>\n",
       "      <th>content</th>\n",
       "      <th>tags_string</th>\n",
       "    </tr>\n",
       "  </thead>\n",
       "  <tbody>\n",
       "    <tr>\n",
       "      <th>0</th>\n",
       "      <td>&lt;div xmlns=\"http://www.w3.org/1999/xhtml\"&gt;О вы...</td>\n",
       "      <td>blender,blender basics,книги,учебник,учебное п...</td>\n",
       "    </tr>\n",
       "    <tr>\n",
       "      <th>2</th>\n",
       "      <td>&lt;div xmlns=\"http://www.w3.org/1999/xhtml\"&gt;Уваж...</td>\n",
       "      <td>youmagic,ip-телефония,МТТ,softphone,linux,windows</td>\n",
       "    </tr>\n",
       "    <tr>\n",
       "      <th>5</th>\n",
       "      <td>&lt;div xmlns=\"http://www.w3.org/1999/xhtml\"&gt;Улуч...</td>\n",
       "      <td>юзабилити,проектирование интерфейсов,ecommerce...</td>\n",
       "    </tr>\n",
       "    <tr>\n",
       "      <th>7</th>\n",
       "      <td>&lt;div xmlns=\"http://www.w3.org/1999/xhtml\"&gt;&lt;img...</td>\n",
       "      <td>forex,трейдинг,механическая торговля,эксперт</td>\n",
       "    </tr>\n",
       "    <tr>\n",
       "      <th>9</th>\n",
       "      <td>&lt;div xmlns=\"http://www.w3.org/1999/xhtml\"&gt;Риск...</td>\n",
       "      <td>занимательная экономика,экономика,поведение,но...</td>\n",
       "    </tr>\n",
       "  </tbody>\n",
       "</table>\n",
       "</div>"
      ],
      "text/plain": [
       "                                             content  \\\n",
       "0  <div xmlns=\"http://www.w3.org/1999/xhtml\">О вы...   \n",
       "2  <div xmlns=\"http://www.w3.org/1999/xhtml\">Уваж...   \n",
       "5  <div xmlns=\"http://www.w3.org/1999/xhtml\">Улуч...   \n",
       "7  <div xmlns=\"http://www.w3.org/1999/xhtml\"><img...   \n",
       "9  <div xmlns=\"http://www.w3.org/1999/xhtml\">Риск...   \n",
       "\n",
       "                                         tags_string  \n",
       "0  blender,blender basics,книги,учебник,учебное п...  \n",
       "2  youmagic,ip-телефония,МТТ,softphone,linux,windows  \n",
       "5  юзабилити,проектирование интерфейсов,ecommerce...  \n",
       "7       forex,трейдинг,механическая торговля,эксперт  \n",
       "9  занимательная экономика,экономика,поведение,но...  "
      ]
     },
     "execution_count": 15,
     "metadata": {},
     "output_type": "execute_result"
    }
   ],
   "source": [
    "df.head()"
   ]
  },
  {
   "cell_type": "code",
   "execution_count": 18,
   "id": "0d6d2b5c",
   "metadata": {},
   "outputs": [],
   "source": [
    "df.to_csv(RESULT_CSV, columns=[\"content\", \"tags\"])"
   ]
  },
  {
   "cell_type": "code",
   "execution_count": 16,
   "id": "88e6c4d3",
   "metadata": {},
   "outputs": [],
   "source": [
    "def get_tags_string(data):\n",
    "    res = dict()\n",
    "    for row in data:\n",
    "        arr = row.strip(\"[]\").replace(\"'\", \"\").split(',')\n",
    "        \n",
    "        for item in arr:\n",
    "            if item in res:\n",
    "                res[item] += 1\n",
    "            else:\n",
    "                res[item] = 1\n",
    "    return res"
   ]
  },
  {
   "cell_type": "code",
   "execution_count": 21,
   "id": "2f75b92c",
   "metadata": {},
   "outputs": [],
   "source": [
    "tags_dict = get_tags_string(df['tags'].values)"
   ]
  },
  {
   "cell_type": "code",
   "execution_count": 22,
   "id": "5a33d8c4",
   "metadata": {},
   "outputs": [
    {
     "data": {
      "text/plain": [
       "110365"
      ]
     },
     "execution_count": 22,
     "metadata": {},
     "output_type": "execute_result"
    }
   ],
   "source": [
    "len(tags_dict)"
   ]
  },
  {
   "cell_type": "code",
   "execution_count": 23,
   "id": "1bf9ccfe",
   "metadata": {},
   "outputs": [],
   "source": [
    "sort_tags_dict = sorted(tags_dict.items(), key=lambda x: x[1], reverse=True)"
   ]
  },
  {
   "cell_type": "code",
   "execution_count": 25,
   "id": "a112344e",
   "metadata": {},
   "outputs": [],
   "source": [
    "EXPLORE_TAG_COUNT = 20"
   ]
  },
  {
   "cell_type": "code",
   "execution_count": 26,
   "id": "7c6b1590",
   "metadata": {},
   "outputs": [],
   "source": [
    "tags = sort_tags_dict[0:EXPLORE_TAG_COUNT]\n",
    "\n",
    "x = []\n",
    "x_label = []\n",
    "\n",
    "for i in tags:\n",
    "    x_label.append(i[0])\n",
    "    x.append(i[1])"
   ]
  },
  {
   "cell_type": "code",
   "execution_count": 27,
   "id": "9e05fd49",
   "metadata": {},
   "outputs": [
    {
     "name": "stdout",
     "output_type": "stream",
     "text": [
      "[('javascript', 3482), ('android', 3255), ('php', 2473), ('java', 2418), ('linux', 2398), ('python', 2345), ('программирование', 2019), ('разработка', 1842), ('ios', 1594), ('google', 1550), ('c++', 1548), ('microsoft', 1501), ('.net', 1494), ('информационная безопасность', 1296), ('стартапы', 1257), ('c#', 1249), ('css', 1189), ('apple', 1128), ('игры', 1078), ('open source', 1075)]\n"
     ]
    }
   ],
   "source": [
    "print(tags)"
   ]
  },
  {
   "cell_type": "code",
   "execution_count": 31,
   "id": "5901ce60",
   "metadata": {},
   "outputs": [
    {
     "data": {
      "text/plain": [
       "([<matplotlib.axis.XTick at 0x7f449b9b88b0>,\n",
       "  <matplotlib.axis.XTick at 0x7f449b9b8880>,\n",
       "  <matplotlib.axis.XTick at 0x7f449b9a4220>,\n",
       "  <matplotlib.axis.XTick at 0x7f449b904c40>,\n",
       "  <matplotlib.axis.XTick at 0x7f449b912190>,\n",
       "  <matplotlib.axis.XTick at 0x7f449b9128e0>,\n",
       "  <matplotlib.axis.XTick at 0x7f449b917070>,\n",
       "  <matplotlib.axis.XTick at 0x7f449b9177f0>,\n",
       "  <matplotlib.axis.XTick at 0x7f449b91d0a0>,\n",
       "  <matplotlib.axis.XTick at 0x7f449b917cd0>,\n",
       "  <matplotlib.axis.XTick at 0x7f449b912c70>,\n",
       "  <matplotlib.axis.XTick at 0x7f449b91d5b0>,\n",
       "  <matplotlib.axis.XTick at 0x7f449b91ddc0>,\n",
       "  <matplotlib.axis.XTick at 0x7f449b925550>,\n",
       "  <matplotlib.axis.XTick at 0x7f449b925ca0>,\n",
       "  <matplotlib.axis.XTick at 0x7f449b92b430>,\n",
       "  <matplotlib.axis.XTick at 0x7f449b925cd0>,\n",
       "  <matplotlib.axis.XTick at 0x7f449b91d8e0>,\n",
       "  <matplotlib.axis.XTick at 0x7f449b92b190>,\n",
       "  <matplotlib.axis.XTick at 0x7f449b9340d0>],\n",
       " [Text(0, 0, 'javascript'),\n",
       "  Text(1, 0, 'android'),\n",
       "  Text(2, 0, 'php'),\n",
       "  Text(3, 0, 'java'),\n",
       "  Text(4, 0, 'linux'),\n",
       "  Text(5, 0, 'python'),\n",
       "  Text(6, 0, 'программирование'),\n",
       "  Text(7, 0, 'разработка'),\n",
       "  Text(8, 0, 'ios'),\n",
       "  Text(9, 0, 'google'),\n",
       "  Text(10, 0, 'c++'),\n",
       "  Text(11, 0, 'microsoft'),\n",
       "  Text(12, 0, '.net'),\n",
       "  Text(13, 0, 'информационная безопасность'),\n",
       "  Text(14, 0, 'стартапы'),\n",
       "  Text(15, 0, 'c#'),\n",
       "  Text(16, 0, 'css'),\n",
       "  Text(17, 0, 'apple'),\n",
       "  Text(18, 0, 'игры'),\n",
       "  Text(19, 0, 'open source')])"
      ]
     },
     "execution_count": 31,
     "metadata": {},
     "output_type": "execute_result"
    },
    {
     "data": {
      "image/png": "[encoded data removed]",
      "text/plain": [
       "<Figure size 2500x600 with 1 Axes>"
      ]
     },
     "metadata": {},
     "output_type": "display_data"
    }
   ],
   "source": [
    "fig = plt.figure(figsize=(25, 6))\n",
    "plt.style.use('ggplot')\n",
    "plt.bar(range(len(x)), x)\n",
    "plt.xticks(range(len(x)), x_label)"
   ]
  },
  {
   "cell_type": "code",
   "execution_count": 32,
   "id": "091fae99",
   "metadata": {},
   "outputs": [],
   "source": [
    "main_tags = sort_tags_dict[0:20]\n",
    "\n",
    "y = []\n",
    "y_label = []\n",
    "\n",
    "for i in main_tags:\n",
    "    y_label.append(i[0][0:8] + \"...\")\n",
    "    y.append(i[1])"
   ]
  },
  {
   "cell_type": "code",
   "execution_count": 34,
   "id": "9e112b0e",
   "metadata": {},
   "outputs": [
    {
     "data": {
      "text/plain": [
       "([<matplotlib.axis.XTick at 0x7f449bb31340>,\n",
       "  <matplotlib.axis.XTick at 0x7f449b832760>,\n",
       "  <matplotlib.axis.XTick at 0x7f449b81f370>,\n",
       "  <matplotlib.axis.XTick at 0x7f449b7f3700>,\n",
       "  <matplotlib.axis.XTick at 0x7f449b7f3e50>,\n",
       "  <matplotlib.axis.XTick at 0x7f449b77f5e0>,\n",
       "  <matplotlib.axis.XTick at 0x7f449b77fd30>,\n",
       "  <matplotlib.axis.XTick at 0x7f449b77f5b0>,\n",
       "  <matplotlib.axis.XTick at 0x7f449b7f3430>,\n",
       "  <matplotlib.axis.XTick at 0x7f449b784850>,\n",
       "  <matplotlib.axis.XTick at 0x7f449b78b070>,\n",
       "  <matplotlib.axis.XTick at 0x7f449b78b730>,\n",
       "  <matplotlib.axis.XTick at 0x7f449b78be80>,\n",
       "  <matplotlib.axis.XTick at 0x7f449b78bee0>,\n",
       "  <matplotlib.axis.XTick at 0x7f449b784d30>,\n",
       "  <matplotlib.axis.XTick at 0x7f449b7914f0>,\n",
       "  <matplotlib.axis.XTick at 0x7f449b791bb0>,\n",
       "  <matplotlib.axis.XTick at 0x7f449b799340>,\n",
       "  <matplotlib.axis.XTick at 0x7f449b799a90>,\n",
       "  <matplotlib.axis.XTick at 0x7f449b79f220>],\n",
       " [Text(0, 0, 'javascri...'),\n",
       "  Text(1, 0, 'android...'),\n",
       "  Text(2, 0, 'php...'),\n",
       "  Text(3, 0, 'java...'),\n",
       "  Text(4, 0, 'linux...'),\n",
       "  Text(5, 0, 'python...'),\n",
       "  Text(6, 0, 'программ...'),\n",
       "  Text(7, 0, 'разработ...'),\n",
       "  Text(8, 0, 'ios...'),\n",
       "  Text(9, 0, 'google...'),\n",
       "  Text(10, 0, 'c++...'),\n",
       "  Text(11, 0, 'microsof...'),\n",
       "  Text(12, 0, '.net...'),\n",
       "  Text(13, 0, 'информац...'),\n",
       "  Text(14, 0, 'стартапы...'),\n",
       "  Text(15, 0, 'c#...'),\n",
       "  Text(16, 0, 'css...'),\n",
       "  Text(17, 0, 'apple...'),\n",
       "  Text(18, 0, 'игры...'),\n",
       "  Text(19, 0, 'open sou...')])"
      ]
     },
     "execution_count": 34,
     "metadata": {},
     "output_type": "execute_result"
    },
    {
     "data": {
      "image/png": "[encoded data removed]",
      "text/plain": [
       "<Figure size 2000x400 with 1 Axes>"
      ]
     },
     "metadata": {},
     "output_type": "display_data"
    }
   ],
   "source": [
    "fig = plt.figure(figsize=(20, 4))\n",
    "plt.style.use('ggplot')\n",
    "plt.bar(range(len(y)), y)\n",
    "plt.xticks(range(len(y)), y_label)"
   ]
  },
  {
   "cell_type": "code",
   "execution_count": 35,
   "id": "5367e5fa",
   "metadata": {},
   "outputs": [],
   "source": [
    "TAGS = [x[0] for x in main_tags]"
   ]
  },
  {
   "cell_type": "code",
   "execution_count": 36,
   "id": "e44c70ad",
   "metadata": {},
   "outputs": [
    {
     "data": {
      "text/plain": [
       "['javascript',\n",
       " 'android',\n",
       " 'php',\n",
       " 'java',\n",
       " 'linux',\n",
       " 'python',\n",
       " 'программирование',\n",
       " 'разработка',\n",
       " 'ios',\n",
       " 'google',\n",
       " 'c++',\n",
       " 'microsoft',\n",
       " '.net',\n",
       " 'информационная безопасность',\n",
       " 'стартапы',\n",
       " 'c#',\n",
       " 'css',\n",
       " 'apple',\n",
       " 'игры',\n",
       " 'open source']"
      ]
     },
     "execution_count": 36,
     "metadata": {},
     "output_type": "execute_result"
    }
   ],
   "source": [
    "TAGS"
   ]
  },
  {
   "cell_type": "code",
   "execution_count": 37,
   "id": "285cef11",
   "metadata": {},
   "outputs": [],
   "source": [
    "with open(TAGS_TXT, 'w') as fw:\n",
    "    json.dump(TAGS, fw)"
   ]
  },
  {
   "cell_type": "code",
   "execution_count": null,
   "id": "e891bb76",
   "metadata": {},
   "outputs": [],
   "source": []
  }
 ],
 "metadata": {
  "kernelspec": {
   "display_name": "Python 3 (ipykernel)",
   "language": "python",
   "name": "python3"
  },
  "language_info": {
   "codemirror_mode": {
    "name": "ipython",
    "version": 3
   },
   "file_extension": ".py",
   "mimetype": "text/x-python",
   "name": "python",
   "nbconvert_exporter": "python",
   "pygments_lexer": "ipython3",
   "version": "3.9.13"
  }
 },
 "nbformat": 4,
 "nbformat_minor": 5
}
